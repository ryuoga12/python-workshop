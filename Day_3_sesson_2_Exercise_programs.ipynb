{
  "nbformat": 4,
  "nbformat_minor": 0,
  "metadata": {
    "colab": {
      "name": "Day_3_sesson_2_Exercise_programs",
      "provenance": [],
      "authorship_tag": "ABX9TyP9wEiFVa6NJSxht349JV4/",
      "include_colab_link": true
    },
    "kernelspec": {
      "name": "python3",
      "display_name": "Python 3"
    }
  },
  "cells": [
    {
      "cell_type": "markdown",
      "metadata": {
        "id": "view-in-github",
        "colab_type": "text"
      },
      "source": [
        "<a href=\"https://colab.research.google.com/github/ryuoga12/python-workshop/blob/master/Day_3_sesson_2_Exercise_programs.ipynb\" target=\"_parent\"><img src=\"https://colab.research.google.com/assets/colab-badge.svg\" alt=\"Open In Colab\"/></a>"
      ]
    },
    {
      "cell_type": "code",
      "metadata": {
        "id": "MNkVMen8sdgz",
        "colab_type": "code",
        "colab": {
          "base_uri": "https://localhost:8080/",
          "height": 204
        },
        "outputId": "063dc57a-13e4-4f9c-ed6b-cf25bafa3f6d"
      },
      "source": [
        "\n",
        "# Write a Python Program to Print Multiplication Table of a  number which got through keyboard.\n",
        "n = int(input(\"Enter a number : \"))\n",
        "for i in range(1,11):\n",
        "  print(f\"{n} x {i} = {n*i}\")"
      ],
      "execution_count": 1,
      "outputs": [
        {
          "output_type": "stream",
          "text": [
            "Enter a number : 5\n",
            "5 x 1 = 5\n",
            "5 x 2 = 10\n",
            "5 x 3 = 15\n",
            "5 x 4 = 20\n",
            "5 x 5 = 25\n",
            "5 x 6 = 30\n",
            "5 x 7 = 35\n",
            "5 x 8 = 40\n",
            "5 x 9 = 45\n",
            "5 x 10 = 50\n"
          ],
          "name": "stdout"
        }
      ]
    },
    {
      "cell_type": "code",
      "metadata": {
        "id": "qFyCKbOaslKM",
        "colab_type": "code",
        "colab": {
          "base_uri": "https://localhost:8080/",
          "height": 102
        },
        "outputId": "32d59a38-8af0-48f3-e4cf-dd91b0bfbdbe"
      },
      "source": [
        "\n",
        "# Write a  Python Program to find the Armstrong Numbers between 1 and 2000 ( i.e 153 is amtrong numbers as 1**3+5**3+3**3=153 )\n",
        "for i in range(1,2001):\n",
        "  l = list(map(int,str(i).strip()))\n",
        "  li = [x**3 for x in l]\n",
        "  if i == sum(li):\n",
        "      print(i)"
      ],
      "execution_count": 2,
      "outputs": [
        {
          "output_type": "stream",
          "text": [
            "1\n",
            "153\n",
            "370\n",
            "371\n",
            "407\n"
          ],
          "name": "stdout"
        }
      ]
    },
    {
      "cell_type": "code",
      "metadata": {
        "id": "J52Lqo2Qsqmx",
        "colab_type": "code",
        "colab": {
          "base_uri": "https://localhost:8080/",
          "height": 238
        },
        "outputId": "741dd73a-cbea-43be-f831-a7b5a4c59c8b"
      },
      "source": [
        "\n",
        "#Write a python program to get the list of tuples (rollno, name) for n students by getting rollno and name through keyboard. Sort and print  them as rollno wise and name wise both ascending and descending as well as alphabetical and dealphabetical orders\n",
        "l = [(int(input(\"Enter rollno of student %d : \"%i)),input(\"Enter name of student %d : \"%i)) for i in range(1,int(input(\"Enter number of students : \"))+1)]\n",
        "print(\"Soted rollno wise in ascending order : \",sorted(l, key = lambda x: x[0]))\n",
        "print(\"Soted rollno wise in descending order : \",sorted(l, key = lambda x: x[0], reverse=True))\n",
        "print(\"Soted name length wise in ascending order : \",sorted(l, key = lambda x: len(x[1])))\n",
        "print(\"Soted name length wise in descending order : \",sorted(l, key = lambda x: len(x[1]), reverse=True))\n",
        "print(\"Sorted in alphabetical order : \",sorted(l,key = lambda x:x[1]))\n",
        "print(\"Sorted in dealphabetical order : \",sorted(l,key = lambda x:x[1],reverse = True))"
      ],
      "execution_count": 3,
      "outputs": [
        {
          "output_type": "stream",
          "text": [
            "Enter number of students : 3\n",
            "Enter rollno of student 1 : 220\n",
            "Enter name of student 1 : ryu\n",
            "Enter rollno of student 2 : 221\n",
            "Enter name of student 2 : ren\n",
            "Enter rollno of student 3 : 222\n",
            "Enter name of student 3 : poki\n",
            "Soted rollno wise in ascending order :  [(220, 'ryu'), (221, 'ren'), (222, 'poki')]\n",
            "Soted rollno wise in descending order :  [(222, 'poki'), (221, 'ren'), (220, 'ryu')]\n",
            "Soted name length wise in ascending order :  [(220, 'ryu'), (221, 'ren'), (222, 'poki')]\n",
            "Soted name length wise in descending order :  [(222, 'poki'), (220, 'ryu'), (221, 'ren')]\n",
            "Sorted in alphabetical order :  [(222, 'poki'), (221, 'ren'), (220, 'ryu')]\n",
            "Sorted in dealphabetical order :  [(220, 'ryu'), (221, 'ren'), (222, 'poki')]\n"
          ],
          "name": "stdout"
        }
      ]
    },
    {
      "cell_type": "code",
      "metadata": {
        "id": "Cl9K9HKws-S6",
        "colab_type": "code",
        "colab": {
          "base_uri": "https://localhost:8080/",
          "height": 68
        },
        "outputId": "0fbac646-0ef4-4705-bb83-2ec8fe811fa4"
      },
      "source": [
        "\n",
        "#Python Program to Detect if Two Strings are Anagrams ( They are  the two strings which have same length and same words which may be different in their order)\n",
        "if(sorted(input(\"Enter string 1 : \")) == sorted(input(\"Enter string 2 : \"))):\n",
        "  print(\"Anagrams\")\n",
        "else:\n",
        "  print(\"Not anagrams\")"
      ],
      "execution_count": 5,
      "outputs": [
        {
          "output_type": "stream",
          "text": [
            "Enter string 1 : ren\n",
            "Enter string 2 : ern\n",
            "Anagrams\n"
          ],
          "name": "stdout"
        }
      ]
    }
  ]
}