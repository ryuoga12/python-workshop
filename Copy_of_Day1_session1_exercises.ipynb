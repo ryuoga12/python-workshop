{
  "nbformat": 4,
  "nbformat_minor": 0,
  "metadata": {
    "colab": {
      "name": "Copy of Day1_session1_exercises",
      "provenance": [],
      "authorship_tag": "ABX9TyPLfj0tFcPILexH7G0sBiWH",
      "include_colab_link": true
    },
    "kernelspec": {
      "name": "python3",
      "display_name": "Python 3"
    }
  },
  "cells": [
    {
      "cell_type": "markdown",
      "metadata": {
        "id": "view-in-github",
        "colab_type": "text"
      },
      "source": [
        "<a href=\"https://colab.research.google.com/github/ryuoga12/python-workshop/blob/master/Copy_of_Day1_session1_exercises.ipynb\" target=\"_parent\"><img src=\"https://colab.research.google.com/assets/colab-badge.svg\" alt=\"Open In Colab\"/></a>"
      ]
    },
    {
      "cell_type": "markdown",
      "metadata": {
        "id": "MKaJwBU4DZH8",
        "colab_type": "text"
      },
      "source": [
        "Python program to Find the compound interest for the given p,n,r (formula : p(1+n*r/100)n )"
      ]
    },
    {
      "cell_type": "code",
      "metadata": {
        "id": "sHqccjDzCZhA",
        "colab_type": "code",
        "colab": {
          "base_uri": "https://localhost:8080/",
          "height": 85
        },
        "outputId": "364805cc-31c5-4ce7-d739-ff08a33138fe"
      },
      "source": [
        "#Program to compute compound interes\n",
        "\n",
        "principalamt=float(input(\"Enter a principalamount: \"))\n",
        "rate=float(input(\"Enter the rate: \"))\n",
        "n=float(input(\"Enter the time:\"))\n",
        "\n",
        "#calculating compound interest\n",
        "CI= principalamt* (pow((1 + rate / 100), n))\n",
        "\n",
        "#printing the value\n",
        "print(\"The compound interest is:\",CI)\n"
      ],
      "execution_count": null,
      "outputs": [
        {
          "output_type": "stream",
          "text": [
            "Enter a principalamount: 1000\n",
            "Enter the rate: 4\n",
            "Enter the time:2\n",
            "The compound interest is: 1081.6000000000001\n"
          ],
          "name": "stdout"
        }
      ]
    },
    {
      "cell_type": "markdown",
      "metadata": {
        "id": "oHsCwk83DXIM",
        "colab_type": "text"
      },
      "source": [
        "Python program to Convert centegrade to farenheit ( f= 9/5*c+32)"
      ]
    },
    {
      "cell_type": "code",
      "metadata": {
        "id": "kZvKWNB5ClOZ",
        "colab_type": "code",
        "colab": {
          "base_uri": "https://localhost:8080/",
          "height": 51
        },
        "outputId": "38de93e4-0575-4f9e-d5f1-ed87e3ff51c4"
      },
      "source": [
        "c=float(input(\"Enter the celcius\"))\n",
        "f=9/5*c+32\n",
        "print(\"Farenheit is:\",f)"
      ],
      "execution_count": null,
      "outputs": [
        {
          "output_type": "stream",
          "text": [
            "Enter the celcius33\n",
            "Farenheit is: 91.4\n"
          ],
          "name": "stdout"
        }
      ]
    },
    {
      "cell_type": "markdown",
      "metadata": {
        "id": "pUYhMRCcDTdW",
        "colab_type": "text"
      },
      "source": [
        "Python Program to Find the greater of two numbers"
      ]
    },
    {
      "cell_type": "code",
      "metadata": {
        "id": "ffP9a0Y-Cr-E",
        "colab_type": "code",
        "colab": {
          "base_uri": "https://localhost:8080/",
          "height": 68
        },
        "outputId": "5816c4f9-6a11-4067-bd72-1e1933fb5f89"
      },
      "source": [
        "#Entering any two numbers\n",
        "a=int(input(\"Enter the first number\"))\n",
        "b=int(input(\"Enter the Second number\"))\n",
        "if(a>b):\n",
        "  print(\"{0} is Greater than {1}\".format(a, b))\n",
        "elif(b > a):\n",
        "  print(\"{0} is Greater than {1}\".format(b, a))\n",
        "else:\n",
        "  print(\"Both a and b are Equal\")"
      ],
      "execution_count": null,
      "outputs": [
        {
          "output_type": "stream",
          "text": [
            "Enter the first number4\n",
            "Enter the Second number6\n",
            "6 is Greater than 4\n"
          ],
          "name": "stdout"
        }
      ]
    },
    {
      "cell_type": "markdown",
      "metadata": {
        "id": "vLbxYMw6DHiH",
        "colab_type": "text"
      },
      "source": [
        "Write a program for finding surface areas of cylinder and cone (2PIrrs, 1/3PIrrh) using function."
      ]
    },
    {
      "cell_type": "code",
      "metadata": {
        "id": "MdBbT1XxCutS",
        "colab_type": "code",
        "colab": {
          "base_uri": "https://localhost:8080/",
          "height": 102
        },
        "outputId": "bb639a52-aea2-44fd-c77d-01a7a340562e"
      },
      "source": [
        "''' Python3 program to calculate Volume and  \n",
        "    Surface area of Cone'''\n",
        "  \n",
        "# assigning value Of PI \n",
        "pi =3.142\n",
        "  \n",
        "# Function to calculate Volume of Cone \n",
        "def volume(r, h): \n",
        "    return (1 / 3) * pi * r * r * h \n",
        "  \n",
        "# Function To Calculate Surface Area of Cone \n",
        "def surfacearea(r, s): \n",
        "    return pi * r * s + pi * r * r \n",
        "  \n",
        "# Driver Code \n",
        "radius = float(input(\"Enter the radius\")) \n",
        "height = float(input(\"Enter the height\")) \n",
        "slat_height = float(input(\"Enter the slant height\")) \n",
        "print( \"Volume Of Cone : \", volume(radius, height) ) \n",
        "print( \"Surface Area Of Cone : \", surfacearea(radius, slat_height) ) "
      ],
      "execution_count": null,
      "outputs": [
        {
          "output_type": "stream",
          "text": [
            "Enter the radius6\n",
            "Enter the height5\n",
            "Enter the slant height8\n",
            "Volume Of Cone :  188.51999999999998\n",
            "Surface Area Of Cone :  263.928\n"
          ],
          "name": "stdout"
        }
      ]
    },
    {
      "cell_type": "markdown",
      "metadata": {
        "id": "Ihv3GW8gC_RM",
        "colab_type": "text"
      },
      "source": [
        "Find the greatest of four numbers(using ‘and’ operator)using function."
      ]
    },
    {
      "cell_type": "code",
      "metadata": {
        "id": "yJA5mIzBC0dz",
        "colab_type": "code",
        "colab": {
          "base_uri": "https://localhost:8080/",
          "height": 102
        },
        "outputId": "dae4ac47-ed9c-454c-a915-bfac1c5fd2fb"
      },
      "source": [
        "num1=int(input(\"Enter the first number: \"))\n",
        "num2=int(input(\"Enter the second number: \"))\n",
        "num3=int(input(\"Enter the Third number: \"))\n",
        "num4=int(input(\"Enter the fourth number\"))\n",
        "def find_Biggest():     \n",
        "     if(num1>=num2) and (num1>=num2):\n",
        "         greatest=num1\n",
        "     elif(num2>=num1) and (num2>=num3):\n",
        "         greatest=num2\n",
        "     elif(num3>=num4) and (num3>=num4):\n",
        "         greatest=num3\n",
        "     else:\n",
        "         greatest=num4\n",
        "     print(\"greatest number is\",greatest)\n",
        "find_Biggest();     "
      ],
      "execution_count": null,
      "outputs": [
        {
          "output_type": "stream",
          "text": [
            "Enter the first number: 4\n",
            "Enter the second number: 6\n",
            "Enter the Third number: 5\n",
            "Enter the fourth number4\n",
            "greatest number is 6\n"
          ],
          "name": "stdout"
        }
      ]
    }
  ]
}