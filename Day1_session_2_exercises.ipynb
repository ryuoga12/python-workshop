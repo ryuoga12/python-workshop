{
  "nbformat": 4,
  "nbformat_minor": 0,
  "metadata": {
    "colab": {
      "name": "Day1_session_2_exercises",
      "provenance": [],
      "authorship_tag": "ABX9TyOwu65zKOyV7pYjox+A79XS",
      "include_colab_link": true
    },
    "kernelspec": {
      "name": "python3",
      "display_name": "Python 3"
    }
  },
  "cells": [
    {
      "cell_type": "markdown",
      "metadata": {
        "id": "view-in-github",
        "colab_type": "text"
      },
      "source": [
        "<a href=\"https://colab.research.google.com/github/ryuoga12/python-workshop/blob/master/Day1_session_2_exercises.ipynb\" target=\"_parent\"><img src=\"https://colab.research.google.com/assets/colab-badge.svg\" alt=\"Open In Colab\"/></a>"
      ]
    },
    {
      "cell_type": "markdown",
      "metadata": {
        "id": "_dfnyms2EQcT",
        "colab_type": "text"
      },
      "source": [
        " \n",
        " \n",
        " 1 Write a program to print the triangle \n",
        "i/p  4\n",
        " \n",
        "1\n",
        "2    3\n",
        "3    4   5\n",
        "4    5   6   7"
      ]
    },
    {
      "cell_type": "code",
      "metadata": {
        "id": "uNwB3ACKESSi",
        "colab_type": "code",
        "colab": {
          "base_uri": "https://localhost:8080/",
          "height": 119
        },
        "outputId": "1f7aef4f-4c5b-4508-ba85-62b9e90662cf"
      },
      "source": [
        "n=int(input('Enter A  Number: '))\n",
        "count=0\n",
        " \n",
        "for j in range(0,n+1):\n",
        "    for i in range(0,j):\n",
        "        count=count+1\n",
        "        print(count,end=' ')\n",
        "    print('')\n",
        "    if count>1:\n",
        "        count=count-1"
      ],
      "execution_count": 1,
      "outputs": [
        {
          "output_type": "stream",
          "text": [
            "Enter A  Number: 4\n",
            "\n",
            "1 \n",
            "2 3 \n",
            "3 4 5 \n",
            "5 6 7 8 \n"
          ],
          "name": "stdout"
        }
      ]
    },
    {
      "cell_type": "code",
      "metadata": {
        "id": "ixAuJXw3EYZl",
        "colab_type": "code",
        "colab": {
          "base_uri": "https://localhost:8080/",
          "height": 153
        },
        "outputId": "836a8687-bd7c-4ae6-af4e-44c0baf0a341"
      },
      "source": [
        "n=int(input('Enter A  Number: '))\n",
        "for j in range(0,n+1):\n",
        "    for i in range(0,j):\n",
        "        print('*',end='')\n",
        "    print('')"
      ],
      "execution_count": 2,
      "outputs": [
        {
          "output_type": "stream",
          "text": [
            "Enter A  Number: 6\n",
            "\n",
            "*\n",
            "**\n",
            "***\n",
            "****\n",
            "*****\n",
            "******\n"
          ],
          "name": "stdout"
        }
      ]
    },
    {
      "cell_type": "code",
      "metadata": {
        "id": "q3DfvTM4Eb8G",
        "colab_type": "code",
        "colab": {}
      },
      "source": [
        ""
      ],
      "execution_count": null,
      "outputs": []
    },
    {
      "cell_type": "markdown",
      "metadata": {
        "id": "Nn2G0zRLEdXQ",
        "colab_type": "text"
      },
      "source": [
        "Enter number 5\n",
        "\n",
        "5 4 5 3 4 5 2 3 4 5 1 2 3 4 5"
      ]
    },
    {
      "cell_type": "code",
      "metadata": {
        "id": "6fDGe969EeX1",
        "colab_type": "code",
        "colab": {
          "base_uri": "https://localhost:8080/",
          "height": 136
        },
        "outputId": "b17f755c-1001-4d16-879e-0da87a918732"
      },
      "source": [
        "n=int(input('Enter A  Number: '))\n",
        "count=n\n",
        "for i in range(0,n+1):\n",
        "     for j in range(0,i):\n",
        "            print(count+1,end=' ')\n",
        "            count=count+1   \n",
        "     print('')\n",
        "     count=count-(i+1)"
      ],
      "execution_count": 3,
      "outputs": [
        {
          "output_type": "stream",
          "text": [
            "Enter A  Number: 5\n",
            "\n",
            "5 \n",
            "4 5 \n",
            "3 4 5 \n",
            "2 3 4 5 \n",
            "1 2 3 4 5 \n"
          ],
          "name": "stdout"
        }
      ]
    },
    {
      "cell_type": "markdown",
      "metadata": {
        "id": "wJALr8UmEiN_",
        "colab_type": "text"
      },
      "source": [
        "Enter number 5\n",
        "\n",
        "5 4 3 2 1 4 3 2 1 3 2 1 2 1 1"
      ]
    },
    {
      "cell_type": "code",
      "metadata": {
        "id": "fvf40gVjEjH3",
        "colab_type": "code",
        "colab": {
          "base_uri": "https://localhost:8080/",
          "height": 119
        },
        "outputId": "ca3640a0-2066-4fce-9884-163f21a5e2a6"
      },
      "source": [
        "n=int(input('Enter A  Number: '))\n",
        "count=n\n",
        "for i in range(0,n,1):\n",
        "    for j in range(i,n):\n",
        "        print(count,end='')\n",
        "        count=count-1  \n",
        "    count=n-(i+1)\n",
        "    print('')"
      ],
      "execution_count": 4,
      "outputs": [
        {
          "output_type": "stream",
          "text": [
            "Enter A  Number: 5\n",
            "54321\n",
            "4321\n",
            "321\n",
            "21\n",
            "1\n"
          ],
          "name": "stdout"
        }
      ]
    },
    {
      "cell_type": "markdown",
      "metadata": {
        "id": "MS1esWbFEmZb",
        "colab_type": "text"
      },
      "source": [
        "Find the length of a string without using len functions"
      ]
    },
    {
      "cell_type": "code",
      "metadata": {
        "id": "dDBmcq2LEn4p",
        "colab_type": "code",
        "colab": {
          "base_uri": "https://localhost:8080/",
          "height": 51
        },
        "outputId": "13033f28-0709-4a3c-8a76-c8a6a9f46aa3"
      },
      "source": [
        "s=input('Enter The String: ')\n",
        "len=0\n",
        "for i in s:\n",
        "    len=len+1\n",
        "print('Length Of String Is: ',len)"
      ],
      "execution_count": 5,
      "outputs": [
        {
          "output_type": "stream",
          "text": [
            "Enter The String: hello everyone\n",
            "Length Of String Is:  14\n"
          ],
          "name": "stdout"
        }
      ]
    },
    {
      "cell_type": "markdown",
      "metadata": {
        "id": "2wrufYVdE1PJ",
        "colab_type": "text"
      },
      "source": [
        "Find the no of words and characters in a string"
      ]
    },
    {
      "cell_type": "code",
      "metadata": {
        "id": "qKsRyXmLE3UB",
        "colab_type": "code",
        "colab": {
          "base_uri": "https://localhost:8080/",
          "height": 68
        },
        "outputId": "68842177-5b29-4945-86d8-073bd98086f4"
      },
      "source": [
        "s=input('Enter Your String: ')\n",
        "p=s.split()\n",
        "len=0\n",
        "count=0\n",
        "for i in s:\n",
        "    if i!=' ':\n",
        "        len=len+1\n",
        "for j in p:\n",
        "    count=count+1\n",
        "print('Number Of Character In A String: ',len)\n",
        "print('Number Of Words In A String: ',count)\n"
      ],
      "execution_count": 6,
      "outputs": [
        {
          "output_type": "stream",
          "text": [
            "Enter Your String: game on\n",
            "Number Of Character In A String:  6\n",
            "Number Of Words In A String:  2\n"
          ],
          "name": "stdout"
        }
      ]
    }
  ]
}