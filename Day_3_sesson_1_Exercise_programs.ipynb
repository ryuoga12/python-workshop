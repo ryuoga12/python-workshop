{
  "nbformat": 4,
  "nbformat_minor": 0,
  "metadata": {
    "colab": {
      "name": "Day 3 sesson 1 Exercise programs",
      "provenance": [],
      "authorship_tag": "ABX9TyNENXrf8Tv373UdVI0J0txJ",
      "include_colab_link": true
    },
    "kernelspec": {
      "name": "python3",
      "display_name": "Python 3"
    }
  },
  "cells": [
    {
      "cell_type": "markdown",
      "metadata": {
        "id": "view-in-github",
        "colab_type": "text"
      },
      "source": [
        "<a href=\"https://colab.research.google.com/github/ryuoga12/python-workshop/blob/master/Day_3_sesson_1_Exercise_programs.ipynb\" target=\"_parent\"><img src=\"https://colab.research.google.com/assets/colab-badge.svg\" alt=\"Open In Colab\"/></a>"
      ]
    },
    {
      "cell_type": "code",
      "metadata": {
        "id": "QZZoALlzrauM",
        "colab_type": "code",
        "colab": {
          "base_uri": "https://localhost:8080/",
          "height": 34
        },
        "outputId": "7309380d-c041-4ed2-ef82-8fd9d6aecc27"
      },
      "source": [
        "# Write a Python program to find numbers between 100 and 400 (both included) which are divisable both by 5 or 7. The numbers obtained should be printed in a comma-separated sequence\n",
        "print(str([x for x in range(100,401) if x%5==0 and x%7==0])[1:-1])"
      ],
      "execution_count": 1,
      "outputs": [
        {
          "output_type": "stream",
          "text": [
            "105, 140, 175, 210, 245, 280, 315, 350, 385\n"
          ],
          "name": "stdout"
        }
      ]
    },
    {
      "cell_type": "code",
      "metadata": {
        "id": "mfCeRgdNrhJl",
        "colab_type": "code",
        "colab": {
          "base_uri": "https://localhost:8080/",
          "height": 54
        },
        "outputId": "60b6a6cd-0f95-40ed-da9c-efbce6f83580"
      },
      "source": [
        "# Write a Python program to find  prime numbers between 200 and 600 (both included). The numbers obtained should be printed in a comma-separated sequence\n",
        "print(str([x for x in range(200,601) if all(x%i!=0 for i in range(2,x//2+1))])[1:-1])"
      ],
      "execution_count": 2,
      "outputs": [
        {
          "output_type": "stream",
          "text": [
            "211, 223, 227, 229, 233, 239, 241, 251, 257, 263, 269, 271, 277, 281, 283, 293, 307, 311, 313, 317, 331, 337, 347, 349, 353, 359, 367, 373, 379, 383, 389, 397, 401, 409, 419, 421, 431, 433, 439, 443, 449, 457, 461, 463, 467, 479, 487, 491, 499, 503, 509, 521, 523, 541, 547, 557, 563, 569, 571, 577, 587, 593, 599\n"
          ],
          "name": "stdout"
        }
      ]
    },
    {
      "cell_type": "code",
      "metadata": {
        "id": "pB6erJx3rjhN",
        "colab_type": "code",
        "colab": {
          "base_uri": "https://localhost:8080/",
          "height": 68
        },
        "outputId": "d53b80ab-32cd-45aa-9d7a-62ff413b6f68"
      },
      "source": [
        "# Write a Python program to find All Numbers which are Odd and Palindromes Between a Range of Numbers without using Recursion. The numbers obtained should be printed in a comma-separated sequence\n",
        "print(','.join([str(x) for x in range(int(input(\"Enter lower limit : \")),int(input(\"Enter upper limit : \"))+1) if x%2==1 and str(x)[::-1] == str(x)]))"
      ],
      "execution_count": 3,
      "outputs": [
        {
          "output_type": "stream",
          "text": [
            "Enter lower limit : 100\n",
            "Enter upper limit : 400\n",
            "101,111,121,131,141,151,161,171,181,191,303,313,323,333,343,353,363,373,383,393\n"
          ],
          "name": "stdout"
        }
      ]
    },
    {
      "cell_type": "code",
      "metadata": {
        "id": "ZhXVLlTnrmaS",
        "colab_type": "code",
        "colab": {
          "base_uri": "https://localhost:8080/",
          "height": 51
        },
        "outputId": "791f0ca2-c3f2-42d1-b963-2c9408d360fc"
      },
      "source": [
        "# Write a Python Program to read a number n and print the series “5+10+…..+n = sum upto n ” . The numbers should be printed  as they are  shown in the quotes with sum of numbers upto n \n",
        "n = int(input(\"Enter the limit : \"))\n",
        "for x in range(1,n+1):\n",
        "  if x != n:\n",
        "    print(str(x*5),end = '+')\n",
        "  else:\n",
        "    print(str(x*n),end = ' = ')\n",
        "print(5*n*(n+1)//2)"
      ],
      "execution_count": 4,
      "outputs": [
        {
          "output_type": "stream",
          "text": [
            "Enter the limit : 7\n",
            "5+10+15+20+25+30+49 = 140\n"
          ],
          "name": "stdout"
        }
      ]
    }
  ]
}